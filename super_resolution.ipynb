{
  "cells": [
    {
      "cell_type": "markdown",
      "metadata": {
        "id": "UJeo2a5C0uj2"
      },
      "source": [
        "# Image Super Resolution using ESRGAN\n",
        "\n",
        "---\n",
        "\n",
        "## Technical information\n",
        "- Research: Urban Safe Feminist design\n",
        "- Creation date: 2024-05-22\n",
        "\n",
        "## Objectives\n",
        "Implement an upscaling algorithm that improves the resolution of a set of images obtained from the StreetView API.\n",
        "\n",
        "## Summary\n",
        "This notebook was developed to implement the upscaling algorithm. The framework used is TensorFlow in a Google Colab environment. The model used is ESRGAN which is available from https://www.tensorflow.org/hub/tutorials/image_enhancing.\n",
        "\n",
        "## Results\n",
        "- For each image of the original dataset, the ESRGAN model was applied to obtain its corresponding image in better quality.\n",
        "- Metrics such as PSNR and SSIM are provided to evaluate the quality of the images generated at high resolution.\n",
        "\n",
        "## Change log:\n",
        "- 2024-05-22 Initial notebook creation\n",
        "\n"
      ]
    },
    {
      "cell_type": "markdown",
      "metadata": {
        "id": "_O9DUcDCOgqZ"
      },
      "source": [
        "Algorithm selection: The ESRGAN algorithm preserves detail and visual quality through its ability to learn complex patterns. It uses a generative model, which helps to capture finer details in images, resulting in higher visual quality results. This also helps to contain realistic details, which is useful in a diverse number of applications and scenarios."
      ]
    },
    {
      "cell_type": "markdown",
      "metadata": {
        "id": "LBGty4O_0ukJ"
      },
      "source": [
        "### Libraries"
      ]
    },
    {
      "cell_type": "code",
      "execution_count": 20,
      "metadata": {
        "id": "lnyLTyUt0ukN"
      },
      "outputs": [],
      "source": [
        "import os\n",
        "from PIL import Image\n",
        "import numpy as np\n",
        "import pandas as pd\n",
        "import tensorflow as tf\n",
        "import tensorflow_hub as hub\n",
        "import matplotlib.pyplot as plt\n",
        "import cv2\n",
        "import random\n",
        "\n",
        "from skimage.metrics import peak_signal_noise_ratio as psnr\n",
        "from skimage.metrics import structural_similarity as ssim\n",
        "\n",
        "%matplotlib inline\n",
        "os.environ[\"TFHUB_DOWNLOAD_PROGRESS\"] = \"True\""
      ]
    },
    {
      "cell_type": "markdown",
      "metadata": {
        "id": "WK78bYJtdKsq"
      },
      "source": [
        "### Download the set of images"
      ]
    },
    {
      "cell_type": "markdown",
      "metadata": {
        "id": "-RE5L5hmdQaw"
      },
      "source": [
        "The images are contained in the `data` folder.  "
      ]
    },
    {
      "cell_type": "code",
      "execution_count": 2,
      "metadata": {
        "colab": {
          "base_uri": "https://localhost:8080/"
        },
        "id": "zNXOn5KAbJYy",
        "outputId": "c4a49fc3-2d2b-4c17-ea75-5ef200eefb15"
      },
      "outputs": [
        {
          "output_type": "stream",
          "name": "stdout",
          "text": [
            "Cloning into 'Test'...\n",
            "remote: Enumerating objects: 78, done.\u001b[K\n",
            "remote: Counting objects: 100% (78/78), done.\u001b[K\n",
            "remote: Compressing objects: 100% (76/76), done.\u001b[K\n",
            "remote: Total 78 (delta 0), reused 0 (delta 0), pack-reused 0\u001b[K\n",
            "Receiving objects: 100% (78/78), 19.59 MiB | 10.96 MiB/s, done.\n"
          ]
        }
      ],
      "source": [
        "!git clone https://github.com/DiversaStudio/Test.git"
      ]
    },
    {
      "cell_type": "markdown",
      "metadata": {
        "id": "lXGGVry54TTC"
      },
      "source": [
        "### Declaring general variables"
      ]
    },
    {
      "cell_type": "code",
      "execution_count": 9,
      "metadata": {
        "colab": {
          "base_uri": "https://localhost:8080/"
        },
        "id": "f3lA63AbCh1B",
        "outputId": "27862155-f75d-4416-d322-6b117cb5c7bb"
      },
      "outputs": [
        {
          "output_type": "stream",
          "name": "stdout",
          "text": [
            "Drive already mounted at /content/drive; to attempt to forcibly remount, call drive.mount(\"/content/drive\", force_remount=True).\n"
          ]
        }
      ],
      "source": [
        "# Google libraries to make the connection with the drive\n",
        "from google.colab import files\n",
        "from google.colab import drive\n",
        "\n",
        "drive.mount(\"/content/drive\") # Request for connection to google drive account is made.\n",
        "\n",
        "path_original_images_folder = r\"/content/drive/MyDrive/Diversa/Urbansafe/data_extraction/imagenes\"\n",
        "path_sr_images_folder = r\"/content/drive/MyDrive/Diversa/Urbansafe/data_extraction/imagenes_sr\""
      ]
    },
    {
      "cell_type": "code",
      "execution_count": 4,
      "metadata": {
        "id": "DXot2kru0ukh"
      },
      "outputs": [],
      "source": [
        "SAVED_MODEL_PATH = \"https://tfhub.dev/captain-pool/esrgan-tf2/1\" #Pretrained model ESRGAN"
      ]
    },
    {
      "cell_type": "markdown",
      "metadata": {
        "id": "KF_tHde-p3rn"
      },
      "source": [
        "## Defining helper functions"
      ]
    },
    {
      "cell_type": "markdown",
      "metadata": {
        "id": "t6Ua_EO-40vx"
      },
      "source": [
        "### Define the function preprocess_image"
      ]
    },
    {
      "cell_type": "markdown",
      "metadata": {
        "id": "Dm5gPPUPEWlU"
      },
      "source": [
        "The configuration for the application of the ESRGAN model has special features for its operation. At this stage the original images are preprocessed to meet the requirements of the model."
      ]
    },
    {
      "cell_type": "code",
      "execution_count": 5,
      "metadata": {
        "collapsed": true,
        "id": "X8QdZ60an8qX"
      },
      "outputs": [],
      "source": [
        "def preprocess_image(image_path):\n",
        "    \"\"\" Loads image from path and preprocesses to make it model ready\n",
        "        Args:\n",
        "          image_path: Path to the image file\n",
        "    \"\"\"\n",
        "    hr_image = tf.image.decode_image(tf.io.read_file(image_path))\n",
        "    # remove the alpha channel, the model only supports images with 3 color channels (RGB).\n",
        "    if hr_image.shape[-1] == 4:\n",
        "        hr_image = hr_image[...,:-1]\n",
        "    hr_size = (tf.convert_to_tensor(hr_image.shape[:-1]) // 4) * 4 #Adjusts image dimensions to be multiples of 4\n",
        "    hr_image = tf.image.crop_to_bounding_box(hr_image, 0, 0, hr_size[0], hr_size[1])\n",
        "    hr_image = tf.cast(hr_image, tf.float32) #Converts the image to the tf.float32 data type\n",
        "    return tf.expand_dims(hr_image, 0)"
      ]
    },
    {
      "cell_type": "markdown",
      "metadata": {
        "id": "4LCfOdwK4vJ4"
      },
      "source": [
        "### Define the function save_image"
      ]
    },
    {
      "cell_type": "code",
      "execution_count": 6,
      "metadata": {
        "id": "jX0HG2Bn4uSQ"
      },
      "outputs": [],
      "source": [
        "def save_image(image, filename, output_folder):\n",
        "    \"\"\"\n",
        "      Saves unscaled Tensor Images.\n",
        "      Args:\n",
        "        image: 3D image tensor. [height, width, channels]\n",
        "        filename: Name of the file to save.\n",
        "        output_folder: Folder to save the image.\n",
        "    \"\"\"\n",
        "    if not isinstance(image, Image.Image):\n",
        "        image = tf.clip_by_value(image, 0, 255)\n",
        "        image = Image.fromarray(tf.cast(image, tf.uint8).numpy()) #Converts the image tensor to an 8-bit unsigned integer array and then to a PIL image.\n",
        "    print(f'image path: {os.path.join(output_folder, \"%s.jpg\" % filename)}')\n",
        "    image.save(os.path.join(output_folder, \"%s.jpg\" % filename))\n",
        "    print(\"Saved as %s.jpg\" % filename)"
      ]
    },
    {
      "cell_type": "markdown",
      "metadata": {
        "id": "-gnh5tFal0eg"
      },
      "source": [
        "## Evaluation of the model"
      ]
    },
    {
      "cell_type": "markdown",
      "metadata": {
        "id": "vaeeIBzK6JXf"
      },
      "source": [
        "### Calculate PSNR and SSIM"
      ]
    },
    {
      "cell_type": "markdown",
      "metadata": {
        "id": "pL10PhZIdED2"
      },
      "source": [
        "- These metrics were selected to complement the model evaluation. On the one hand, the PSNR helps to calculate how much noise exists in the processed image with respect to the original one respect of the quadratic error in term of decibels. According to preliminary research, values above 20 dB are optimal values for the PSRN result because it indicates that the output signal is very similar to the original signal.\n"
      ]
    },
    {
      "cell_type": "code",
      "source": [
        "def calculate_metrics(original_image, upscaled_image):\n",
        "    \"\"\"\n",
        "    Calcula PSNR y SSIM entre la imagen original y la mejorada.\n",
        "\n",
        "    Args:\n",
        "        original_image (np.array): Imagen original.\n",
        "        upscaled_image (np.array): Imagen mejorada.\n",
        "\n",
        "    \"\"\"\n",
        "    # Convertir imágenes a arrays numpy\n",
        "    original = np.array(original_image)\n",
        "    upscaled = np.array(upscaled_image)\n",
        "\n",
        "    # Redimensionar la imagen original al tamaño de la imagen mejorada\n",
        "    original_resized = np.array(original_image.resize((upscaled.shape[1], upscaled.shape[0]), Image.BICUBIC))\n",
        "\n",
        "    # Calcular PSNR y SSIM\n",
        "    psnr_value = psnr(original_resized, upscaled)\n",
        "    ssim_value = ssim(original_resized, upscaled, multichannel=True)\n",
        "\n",
        "    return psnr_value, ssim_value\n"
      ],
      "metadata": {
        "id": "ffembNnkWe7D"
      },
      "execution_count": 21,
      "outputs": []
    },
    {
      "cell_type": "markdown",
      "source": [
        "## Performing ESRGAN of images loaded from path"
      ],
      "metadata": {
        "id": "fpuRZPlvQDUm"
      }
    },
    {
      "cell_type": "markdown",
      "source": [
        "The original images will be selected and subjected to a preprocessing phase. This stage is necessary to fit the parameters of the model. Subsequently, the ESRGAN model will be applied to these preprocessed images to obtain the super resolution images that will be stored in the folder `imagenes_sr`."
      ],
      "metadata": {
        "id": "SKFh1soBQC3m"
      }
    },
    {
      "cell_type": "code",
      "source": [
        "# 1. Get list of images stored in the input folder\n",
        "input_imagenes_list = os.listdir(path_original_images_folder)  # List of images\n",
        "\n",
        "results = []\n",
        "\n",
        "# Create folder if it does not exist\n",
        "if not os.path.exists(path_sr_images_folder):\n",
        "    os.makedirs(path_sr_images_folder)\n",
        "\n",
        "# 2. Loading the model\n",
        "model = hub.load(SAVED_MODEL_PATH)\n",
        "\n",
        "# 3. Iterate over the list of images to apply the super resolution model and save each resulting image in the output folder.\n",
        "for image in input_imagenes_list:\n",
        "    # Open image\n",
        "    image_path = os.path.join(path_original_images_folder, image)  # Define the path to each individual image\n",
        "    base_name = os.path.basename(image_path)\n",
        "\n",
        "    hr_image = preprocess_image(image_path)  # Open the image and apply the preprocess_image function\n",
        "\n",
        "    fake_image = model(hr_image)  # Apply the model and obtain the resulting image.\n",
        "    fake_image = tf.squeeze(fake_image).numpy()  # Convert tensor to numpy array\n",
        "\n",
        "    result_image_name = image.split(\".\")[0] + \"_sr\"  # Name of the images\n",
        "\n",
        "    save_image(fake_image, filename=result_image_name, output_folder=path_sr_images_folder)  # Save the final image\n",
        "\n",
        "    # Calcular métricas\n",
        "    original_image = Image.open(image_path).convert('RGB')\n",
        "    fake_image_pil = Image.fromarray(np.uint8(fake_image * 255))  # Convert numpy array to PIL Image for metrics\n",
        "    psnr_value, ssim_value = calculate_metrics(original_image, fake_image_pil)\n",
        "\n",
        "    # Save results in the list\n",
        "    results.append({'Imagen': base_name, 'PSNR': psnr_value, 'SSIM': ssim_value})\n",
        "\n",
        "# Print the resulting list of images\n",
        "print(os.listdir(path_sr_images_folder))"
      ],
      "metadata": {
        "colab": {
          "base_uri": "https://localhost:8080/"
        },
        "id": "7df-DVgNW8BO",
        "outputId": "7b067c73-742c-4d43-b5c5-bd35df5c0044"
      },
      "execution_count": 23,
      "outputs": [
        {
          "output_type": "stream",
          "name": "stdout",
          "text": [
            "image path: /content/drive/MyDrive/Diversa/Urbansafe/data_extraction/imagenes_sr/streetview_140_0_sr.jpg\n",
            "Saved as streetview_140_0_sr.jpg\n"
          ]
        },
        {
          "output_type": "stream",
          "name": "stderr",
          "text": [
            "<ipython-input-21-ba822c512820>:19: FutureWarning: `multichannel` is a deprecated argument name for `structural_similarity`. It will be removed in version 1.0. Please use `channel_axis` instead.\n",
            "  ssim_value = ssim(original_resized, upscaled, multichannel=True)\n"
          ]
        },
        {
          "output_type": "stream",
          "name": "stdout",
          "text": [
            "image path: /content/drive/MyDrive/Diversa/Urbansafe/data_extraction/imagenes_sr/streetview_139_270_sr.jpg\n",
            "Saved as streetview_139_270_sr.jpg\n",
            "image path: /content/drive/MyDrive/Diversa/Urbansafe/data_extraction/imagenes_sr/streetview_139_90_sr.jpg\n",
            "Saved as streetview_139_90_sr.jpg\n",
            "image path: /content/drive/MyDrive/Diversa/Urbansafe/data_extraction/imagenes_sr/streetview_139_180_sr.jpg\n",
            "Saved as streetview_139_180_sr.jpg\n",
            "image path: /content/drive/MyDrive/Diversa/Urbansafe/data_extraction/imagenes_sr/streetview_139_0_sr.jpg\n",
            "Saved as streetview_139_0_sr.jpg\n",
            "image path: /content/drive/MyDrive/Diversa/Urbansafe/data_extraction/imagenes_sr/streetview_138_90_sr.jpg\n",
            "Saved as streetview_138_90_sr.jpg\n",
            "image path: /content/drive/MyDrive/Diversa/Urbansafe/data_extraction/imagenes_sr/streetview_138_180_sr.jpg\n",
            "Saved as streetview_138_180_sr.jpg\n",
            "image path: /content/drive/MyDrive/Diversa/Urbansafe/data_extraction/imagenes_sr/streetview_140_270_sr.jpg\n",
            "Saved as streetview_140_270_sr.jpg\n",
            "image path: /content/drive/MyDrive/Diversa/Urbansafe/data_extraction/imagenes_sr/streetview_138_270_sr.jpg\n",
            "Saved as streetview_138_270_sr.jpg\n",
            "image path: /content/drive/MyDrive/Diversa/Urbansafe/data_extraction/imagenes_sr/streetview_138_0_sr.jpg\n",
            "Saved as streetview_138_0_sr.jpg\n",
            "image path: /content/drive/MyDrive/Diversa/Urbansafe/data_extraction/imagenes_sr/streetview_112_180_sr.jpg\n",
            "Saved as streetview_112_180_sr.jpg\n",
            "image path: /content/drive/MyDrive/Diversa/Urbansafe/data_extraction/imagenes_sr/streetview_112_90_sr.jpg\n",
            "Saved as streetview_112_90_sr.jpg\n",
            "image path: /content/drive/MyDrive/Diversa/Urbansafe/data_extraction/imagenes_sr/streetview_111_90_sr.jpg\n",
            "Saved as streetview_111_90_sr.jpg\n",
            "image path: /content/drive/MyDrive/Diversa/Urbansafe/data_extraction/imagenes_sr/streetview_111_180_sr.jpg\n",
            "Saved as streetview_111_180_sr.jpg\n",
            "image path: /content/drive/MyDrive/Diversa/Urbansafe/data_extraction/imagenes_sr/streetview_112_0_sr.jpg\n",
            "Saved as streetview_112_0_sr.jpg\n",
            "image path: /content/drive/MyDrive/Diversa/Urbansafe/data_extraction/imagenes_sr/streetview_111_270_sr.jpg\n",
            "Saved as streetview_111_270_sr.jpg\n",
            "image path: /content/drive/MyDrive/Diversa/Urbansafe/data_extraction/imagenes_sr/streetview_110_270_sr.jpg\n",
            "Saved as streetview_110_270_sr.jpg\n",
            "image path: /content/drive/MyDrive/Diversa/Urbansafe/data_extraction/imagenes_sr/streetview_110_0_sr.jpg\n",
            "Saved as streetview_110_0_sr.jpg\n",
            "image path: /content/drive/MyDrive/Diversa/Urbansafe/data_extraction/imagenes_sr/streetview_110_90_sr.jpg\n",
            "Saved as streetview_110_90_sr.jpg\n",
            "image path: /content/drive/MyDrive/Diversa/Urbansafe/data_extraction/imagenes_sr/streetview_110_180_sr.jpg\n",
            "Saved as streetview_110_180_sr.jpg\n",
            "image path: /content/drive/MyDrive/Diversa/Urbansafe/data_extraction/imagenes_sr/streetview_112_270_sr.jpg\n",
            "Saved as streetview_112_270_sr.jpg\n",
            "image path: /content/drive/MyDrive/Diversa/Urbansafe/data_extraction/imagenes_sr/streetview_111_0_sr.jpg\n",
            "Saved as streetview_111_0_sr.jpg\n",
            "image path: /content/drive/MyDrive/Diversa/Urbansafe/data_extraction/imagenes_sr/streetview_91_90_sr.jpg\n",
            "Saved as streetview_91_90_sr.jpg\n",
            "image path: /content/drive/MyDrive/Diversa/Urbansafe/data_extraction/imagenes_sr/streetview_91_0_sr.jpg\n",
            "Saved as streetview_91_0_sr.jpg\n",
            "image path: /content/drive/MyDrive/Diversa/Urbansafe/data_extraction/imagenes_sr/streetview_91_180_sr.jpg\n",
            "Saved as streetview_91_180_sr.jpg\n",
            "image path: /content/drive/MyDrive/Diversa/Urbansafe/data_extraction/imagenes_sr/streetview_91_270_sr.jpg\n",
            "Saved as streetview_91_270_sr.jpg\n",
            "image path: /content/drive/MyDrive/Diversa/Urbansafe/data_extraction/imagenes_sr/streetview_90_270_sr.jpg\n",
            "Saved as streetview_90_270_sr.jpg\n",
            "image path: /content/drive/MyDrive/Diversa/Urbansafe/data_extraction/imagenes_sr/streetview_90_180_sr.jpg\n",
            "Saved as streetview_90_180_sr.jpg\n",
            "image path: /content/drive/MyDrive/Diversa/Urbansafe/data_extraction/imagenes_sr/streetview_90_90_sr.jpg\n",
            "Saved as streetview_90_90_sr.jpg\n",
            "image path: /content/drive/MyDrive/Diversa/Urbansafe/data_extraction/imagenes_sr/streetview_90_0_sr.jpg\n",
            "Saved as streetview_90_0_sr.jpg\n",
            "image path: /content/drive/MyDrive/Diversa/Urbansafe/data_extraction/imagenes_sr/streetview_93_90_sr.jpg\n",
            "Saved as streetview_93_90_sr.jpg\n",
            "image path: /content/drive/MyDrive/Diversa/Urbansafe/data_extraction/imagenes_sr/streetview_92_180_sr.jpg\n",
            "Saved as streetview_92_180_sr.jpg\n",
            "image path: /content/drive/MyDrive/Diversa/Urbansafe/data_extraction/imagenes_sr/streetview_93_180_sr.jpg\n",
            "Saved as streetview_93_180_sr.jpg\n",
            "image path: /content/drive/MyDrive/Diversa/Urbansafe/data_extraction/imagenes_sr/streetview_92_270_sr.jpg\n",
            "Saved as streetview_92_270_sr.jpg\n",
            "image path: /content/drive/MyDrive/Diversa/Urbansafe/data_extraction/imagenes_sr/streetview_93_0_sr.jpg\n",
            "Saved as streetview_93_0_sr.jpg\n",
            "image path: /content/drive/MyDrive/Diversa/Urbansafe/data_extraction/imagenes_sr/streetview_93_270_sr.jpg\n",
            "Saved as streetview_93_270_sr.jpg\n",
            "image path: /content/drive/MyDrive/Diversa/Urbansafe/data_extraction/imagenes_sr/streetview_92_90_sr.jpg\n",
            "Saved as streetview_92_90_sr.jpg\n",
            "image path: /content/drive/MyDrive/Diversa/Urbansafe/data_extraction/imagenes_sr/streetview_92_0_sr.jpg\n",
            "Saved as streetview_92_0_sr.jpg\n",
            "image path: /content/drive/MyDrive/Diversa/Urbansafe/data_extraction/imagenes_sr/streetview_310_90_sr.jpg\n",
            "Saved as streetview_310_90_sr.jpg\n",
            "image path: /content/drive/MyDrive/Diversa/Urbansafe/data_extraction/imagenes_sr/streetview_310_180_sr.jpg\n",
            "Saved as streetview_310_180_sr.jpg\n",
            "image path: /content/drive/MyDrive/Diversa/Urbansafe/data_extraction/imagenes_sr/streetview_310_0_sr.jpg\n",
            "Saved as streetview_310_0_sr.jpg\n",
            "image path: /content/drive/MyDrive/Diversa/Urbansafe/data_extraction/imagenes_sr/streetview_309_180_sr.jpg\n",
            "Saved as streetview_309_180_sr.jpg\n",
            "image path: /content/drive/MyDrive/Diversa/Urbansafe/data_extraction/imagenes_sr/streetview_309_270_sr.jpg\n",
            "Saved as streetview_309_270_sr.jpg\n",
            "image path: /content/drive/MyDrive/Diversa/Urbansafe/data_extraction/imagenes_sr/streetview_309_90_sr.jpg\n",
            "Saved as streetview_309_90_sr.jpg\n",
            "image path: /content/drive/MyDrive/Diversa/Urbansafe/data_extraction/imagenes_sr/streetview_140_90_sr.jpg\n",
            "Saved as streetview_140_90_sr.jpg\n",
            "image path: /content/drive/MyDrive/Diversa/Urbansafe/data_extraction/imagenes_sr/streetview_140_180_sr.jpg\n",
            "Saved as streetview_140_180_sr.jpg\n",
            "image path: /content/drive/MyDrive/Diversa/Urbansafe/data_extraction/imagenes_sr/streetview_327_180_sr.jpg\n",
            "Saved as streetview_327_180_sr.jpg\n",
            "image path: /content/drive/MyDrive/Diversa/Urbansafe/data_extraction/imagenes_sr/streetview_326_270_sr.jpg\n",
            "Saved as streetview_326_270_sr.jpg\n",
            "image path: /content/drive/MyDrive/Diversa/Urbansafe/data_extraction/imagenes_sr/streetview_327_0_sr.jpg\n",
            "Saved as streetview_327_0_sr.jpg\n",
            "image path: /content/drive/MyDrive/Diversa/Urbansafe/data_extraction/imagenes_sr/streetview_327_90_sr.jpg\n",
            "Saved as streetview_327_90_sr.jpg\n",
            "image path: /content/drive/MyDrive/Diversa/Urbansafe/data_extraction/imagenes_sr/streetview_326_0_sr.jpg\n",
            "Saved as streetview_326_0_sr.jpg\n",
            "image path: /content/drive/MyDrive/Diversa/Urbansafe/data_extraction/imagenes_sr/streetview_326_90_sr.jpg\n",
            "Saved as streetview_326_90_sr.jpg\n",
            "image path: /content/drive/MyDrive/Diversa/Urbansafe/data_extraction/imagenes_sr/streetview_326_180_sr.jpg\n",
            "Saved as streetview_326_180_sr.jpg\n",
            "image path: /content/drive/MyDrive/Diversa/Urbansafe/data_extraction/imagenes_sr/streetview_327_270_sr.jpg\n",
            "Saved as streetview_327_270_sr.jpg\n",
            "['streetview_140_0_sr.jpg', 'streetview_139_270_sr.jpg', 'streetview_139_90_sr.jpg', 'streetview_139_180_sr.jpg', 'streetview_139_0_sr.jpg', 'streetview_138_90_sr.jpg', 'streetview_138_180_sr.jpg', 'streetview_140_270_sr.jpg', 'streetview_138_270_sr.jpg', 'streetview_138_0_sr.jpg', 'streetview_112_180_sr.jpg', 'streetview_112_90_sr.jpg', 'streetview_111_90_sr.jpg', 'streetview_111_180_sr.jpg', 'streetview_112_0_sr.jpg', 'streetview_111_270_sr.jpg', 'streetview_110_270_sr.jpg', 'streetview_110_0_sr.jpg', 'streetview_110_90_sr.jpg', 'streetview_110_180_sr.jpg', 'streetview_112_270_sr.jpg', 'streetview_111_0_sr.jpg', 'streetview_91_90_sr.jpg', 'streetview_91_0_sr.jpg', 'streetview_91_180_sr.jpg', 'streetview_91_270_sr.jpg', 'streetview_90_270_sr.jpg', 'streetview_90_180_sr.jpg', 'streetview_90_90_sr.jpg', 'streetview_90_0_sr.jpg', 'streetview_93_90_sr.jpg', 'streetview_92_180_sr.jpg', 'streetview_93_180_sr.jpg', 'streetview_92_270_sr.jpg', 'streetview_93_0_sr.jpg', 'streetview_93_270_sr.jpg', 'streetview_92_90_sr.jpg', 'streetview_92_0_sr.jpg', 'streetview_310_90_sr.jpg', 'streetview_310_180_sr.jpg', 'streetview_310_0_sr.jpg', 'streetview_309_180_sr.jpg', 'streetview_309_270_sr.jpg', 'streetview_309_90_sr.jpg', 'streetview_140_90_sr.jpg', 'streetview_140_180_sr.jpg', 'streetview_327_180_sr.jpg', 'streetview_326_270_sr.jpg', 'streetview_327_0_sr.jpg', 'streetview_327_90_sr.jpg', 'streetview_326_0_sr.jpg', 'streetview_326_90_sr.jpg', 'streetview_326_180_sr.jpg', 'streetview_327_270_sr.jpg']\n"
          ]
        }
      ]
    },
    {
      "cell_type": "code",
      "source": [
        "# Create a DataFrame from the results list\n",
        "pathMetricas = path_sr_images_folder+'/metricas_resultados_imagenes.csv'\n",
        "results_df = pd.DataFrame(results)\n",
        "\n",
        "# Saving the DataFrame in a CSV file\n",
        "results_df.to_csv(pathMetricas, index=False)"
      ],
      "metadata": {
        "id": "cOdzWksc6Yzh"
      },
      "execution_count": 24,
      "outputs": []
    }
  ],
  "metadata": {
    "accelerator": "GPU",
    "colab": {
      "gpuType": "T4",
      "provenance": []
    },
    "kernelspec": {
      "display_name": "Python 3",
      "name": "python3"
    }
  },
  "nbformat": 4,
  "nbformat_minor": 0
}
