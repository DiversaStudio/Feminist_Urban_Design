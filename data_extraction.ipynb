{
  "nbformat": 4,
  "nbformat_minor": 0,
  "metadata": {
    "colab": {
      "provenance": []
    },
    "kernelspec": {
      "name": "python3",
      "display_name": "Python 3"
    },
    "language_info": {
      "name": "python"
    }
  },
  "cells": [
    {
      "cell_type": "markdown",
      "source": [
        "# Nearest nodes extraction and google street image downloading\n",
        "\n",
        "---\n",
        "\n",
        "## Technical information\n",
        "- Research: Urban Safe Feminist design\n",
        "- Author: Sergio Paredes\n",
        "- Creation date: 2024-06-03\n",
        "\n",
        "## Objectives\n",
        "1.   Implement a method that allows to download the closest (secondary) nodes from a main node.\n",
        "2.   Capture and download images of the main and secondary nodes using the google street view api\n",
        "\n",
        "\n",
        "## Summary\n",
        "This notebook was developed for the generation\n",
        "of a method to capture the closest coordinates (nodes) with respect to a main node, and then with respect to a main node, and after that, capture images of the main and secondary nodes. of the main and secondary nodes.\n",
        "\n",
        "For this, the OSMNX library was used.\n",
        "\n",
        "## Results\n",
        "- In result 1, from the 62 main nodes, 8860 secondary nodes were obtained; considering the distance of 350 meters.\n",
        "- In result two, approximately 35000 images were obtained from the main and secondary nodes.\n",
        "\n",
        "## Change log:\n",
        "- 2024-06-03 Initial notebook creation"
      ],
      "metadata": {
        "id": "RfTvX8ONMlO9"
      }
    },
    {
      "cell_type": "markdown",
      "source": [
        "### Libraries"
      ],
      "metadata": {
        "id": "KiJnoiMaJjO1"
      }
    },
    {
      "cell_type": "code",
      "execution_count": 3,
      "metadata": {
        "colab": {
          "base_uri": "https://localhost:8080/"
        },
        "id": "urTdUioWIYQG",
        "outputId": "8fdf913a-a95f-43a4-e592-81c4aabc9cca"
      },
      "outputs": [
        {
          "output_type": "stream",
          "name": "stdout",
          "text": [
            "Collecting osmnx\n",
            "  Downloading osmnx-1.9.3-py3-none-any.whl (107 kB)\n",
            "\u001b[2K     \u001b[90m━━━━━━━━━━━━━━━━━━━━━━━━━━━━━━━━━━━━━━━━\u001b[0m \u001b[32m107.2/107.2 kB\u001b[0m \u001b[31m394.5 kB/s\u001b[0m eta \u001b[36m0:00:00\u001b[0m\n",
            "\u001b[?25hRequirement already satisfied: geopandas>=0.12 in /usr/local/lib/python3.10/dist-packages (from osmnx) (0.13.2)\n",
            "Requirement already satisfied: networkx>=2.5 in /usr/local/lib/python3.10/dist-packages (from osmnx) (3.3)\n",
            "Requirement already satisfied: numpy>=1.20 in /usr/local/lib/python3.10/dist-packages (from osmnx) (1.25.2)\n",
            "Requirement already satisfied: pandas>=1.1 in /usr/local/lib/python3.10/dist-packages (from osmnx) (2.0.3)\n",
            "Requirement already satisfied: requests>=2.27 in /usr/local/lib/python3.10/dist-packages (from osmnx) (2.31.0)\n",
            "Requirement already satisfied: shapely>=2.0 in /usr/local/lib/python3.10/dist-packages (from osmnx) (2.0.4)\n",
            "Requirement already satisfied: fiona>=1.8.19 in /usr/local/lib/python3.10/dist-packages (from geopandas>=0.12->osmnx) (1.9.6)\n",
            "Requirement already satisfied: packaging in /usr/local/lib/python3.10/dist-packages (from geopandas>=0.12->osmnx) (24.1)\n",
            "Requirement already satisfied: pyproj>=3.0.1 in /usr/local/lib/python3.10/dist-packages (from geopandas>=0.12->osmnx) (3.6.1)\n",
            "Requirement already satisfied: python-dateutil>=2.8.2 in /usr/local/lib/python3.10/dist-packages (from pandas>=1.1->osmnx) (2.8.2)\n",
            "Requirement already satisfied: pytz>=2020.1 in /usr/local/lib/python3.10/dist-packages (from pandas>=1.1->osmnx) (2023.4)\n",
            "Requirement already satisfied: tzdata>=2022.1 in /usr/local/lib/python3.10/dist-packages (from pandas>=1.1->osmnx) (2024.1)\n",
            "Requirement already satisfied: charset-normalizer<4,>=2 in /usr/local/lib/python3.10/dist-packages (from requests>=2.27->osmnx) (3.3.2)\n",
            "Requirement already satisfied: idna<4,>=2.5 in /usr/local/lib/python3.10/dist-packages (from requests>=2.27->osmnx) (3.7)\n",
            "Requirement already satisfied: urllib3<3,>=1.21.1 in /usr/local/lib/python3.10/dist-packages (from requests>=2.27->osmnx) (2.0.7)\n",
            "Requirement already satisfied: certifi>=2017.4.17 in /usr/local/lib/python3.10/dist-packages (from requests>=2.27->osmnx) (2024.6.2)\n",
            "Requirement already satisfied: attrs>=19.2.0 in /usr/local/lib/python3.10/dist-packages (from fiona>=1.8.19->geopandas>=0.12->osmnx) (23.2.0)\n",
            "Requirement already satisfied: click~=8.0 in /usr/local/lib/python3.10/dist-packages (from fiona>=1.8.19->geopandas>=0.12->osmnx) (8.1.7)\n",
            "Requirement already satisfied: click-plugins>=1.0 in /usr/local/lib/python3.10/dist-packages (from fiona>=1.8.19->geopandas>=0.12->osmnx) (1.1.1)\n",
            "Requirement already satisfied: cligj>=0.5 in /usr/local/lib/python3.10/dist-packages (from fiona>=1.8.19->geopandas>=0.12->osmnx) (0.7.2)\n",
            "Requirement already satisfied: six in /usr/local/lib/python3.10/dist-packages (from fiona>=1.8.19->geopandas>=0.12->osmnx) (1.16.0)\n",
            "Installing collected packages: osmnx\n",
            "Successfully installed osmnx-1.9.3\n"
          ]
        }
      ],
      "source": [
        "# OSMNX library installation in local environment\n",
        "!pip install osmnx"
      ]
    },
    {
      "cell_type": "code",
      "source": [
        "import os\n",
        "import osmnx as ox\n",
        "import pandas as pd\n",
        "import matplotlib.pyplot as plt\n",
        "import seaborn as sns\n",
        "import json\n",
        "import requests\n",
        "from PIL import Image\n",
        "from io import BytesIO\n",
        "from tqdm import tqdm\n",
        "\n",
        "# Google libraries to make the connection with the drive\n",
        "from google.colab import files\n",
        "from google.colab import drive"
      ],
      "metadata": {
        "id": "wMpgJtobIb61"
      },
      "execution_count": 4,
      "outputs": []
    },
    {
      "cell_type": "markdown",
      "source": [
        "### Google drive connection"
      ],
      "metadata": {
        "id": "3L6zf1orJ9uU"
      }
    },
    {
      "cell_type": "code",
      "source": [
        "drive.mount(\"/content/drive\") # Request for connection to google drive account is made."
      ],
      "metadata": {
        "colab": {
          "base_uri": "https://localhost:8080/"
        },
        "id": "JatBS2hZ-4OV",
        "outputId": "ebff540c-0c49-42c7-ca3e-f343140c2cdb"
      },
      "execution_count": 5,
      "outputs": [
        {
          "output_type": "stream",
          "name": "stdout",
          "text": [
            "Mounted at /content/drive\n"
          ]
        }
      ]
    },
    {
      "cell_type": "code",
      "source": [
        "path = r\"/content/drive/MyDrive/Diversa/Urbansafe\"\n",
        "pathOrigen = path+\"/urbansafe.csv\"\n",
        "pathFinal = path+\"/nodos_expandidos.csv\""
      ],
      "metadata": {
        "id": "crzpuilR_GpN"
      },
      "execution_count": 6,
      "outputs": []
    },
    {
      "cell_type": "markdown",
      "source": [
        "### Function Secondary nodes"
      ],
      "metadata": {
        "id": "_afpUsUPKAU8"
      }
    },
    {
      "cell_type": "code",
      "source": [
        "def expandir_coordenadas(coordenadas, distancia=350):\n",
        "    coordenadas_expandidas = []\n",
        "\n",
        "    # An empty DataFrame is created to store the expanded coordinates.\n",
        "    df_expandido = pd.DataFrame(columns=['latitude', 'longitude', 'node_type', 'id'])\n",
        "\n",
        "    for coord in coordenadas:\n",
        "        # Get the id, latitude and longitude of the current coordinate (this will do math with the original source to bring the other fields).\n",
        "        id_coordenada = coord['id']\n",
        "        latitud = coord['latitude']\n",
        "        longitud = coord['longitude']\n",
        "\n",
        "        G = ox.graph_from_point((latitud, longitud), dist=distancia, network_type='all')\n",
        "\n",
        "        # Obtain the coordinates of nearby nodes.\n",
        "        coordenadas_nodos = [(G.nodes[nodo]['y'], G.nodes[nodo]['x']) for nodo in G.nodes()]\n",
        "\n",
        "        coordenadas_expandidas.extend(coordenadas_nodos)\n",
        "\n",
        "        # A temporary DataFrame is created for the expanded coordinates of this iteration.\n",
        "        df_temporal = pd.DataFrame(coordenadas_nodos, columns=['latitude', 'longitude'])\n",
        "\n",
        "        # Assign the corresponding id to all the rows of the temporary DataFrame\n",
        "        df_temporal['node_type'] = 'secundaria'\n",
        "        df_temporal['id'] = id_coordenada\n",
        "\n",
        "        df_expandido = pd.concat([df_expandido, df_temporal])\n",
        "\n",
        "    return df_expandido"
      ],
      "metadata": {
        "id": "5r66zvuUIip7"
      },
      "execution_count": 27,
      "outputs": []
    },
    {
      "cell_type": "markdown",
      "source": [
        "### Outputs primary and secondary nodes"
      ],
      "metadata": {
        "id": "ifQidHYYKNqb"
      }
    },
    {
      "cell_type": "code",
      "source": [
        "df = pd.read_csv(pathOrigen, sep='|')\n",
        "\n",
        "\n",
        "inputCoord = []\n",
        "\n",
        "for _, row in df.iterrows():\n",
        "    misFilas = {\n",
        "        'id': row['index'],\n",
        "        'latitude': row['latitude'],\n",
        "        'longitude': row['longitude']\n",
        "    }\n",
        "\n",
        "    inputCoord.append(misFilas)\n",
        "\n",
        "\n",
        "# Convert the list to a new DataFrame\n",
        "df_input = pd.DataFrame(inputCoord)\n",
        "valor = 'principal'\n",
        "\n",
        "df_input.insert(0, 'node_type', valor)\n",
        "\n",
        "# On this line I call the function\n",
        "coordenadas_expandidas = expandir_coordenadas(inputCoord)\n",
        "\n",
        "# The original df is joined to extract additional variables.\n",
        "df_outPut = pd.DataFrame(coordenadas_expandidas)\n",
        "df_outPut = df_outPut.loc[:, ['node_type','id', 'latitude', 'longitude']]\n",
        "df_res = pd.concat([df_input, df_outPut], ignore_index=True)\n",
        "df_res = df_res.drop_duplicates()\n",
        "\n",
        "columnas = ['index','id', 'country', 'country_code', 'city'] # Select the variables to be displayed in the final output\n",
        "df_orig = df[columnas]\n",
        "df_final = df_orig.merge(df_res, left_on='index', right_on='id', how='inner')\n",
        "df_final = df_final.drop(columns=['id_y']).rename(columns={'id_x': 'id'})\n",
        "\n",
        "# Save the resulting DataFrame in a CSV file in the shared folder in google drive\n",
        "df_final.to_csv(pathFinal, sep='|', index=False)"
      ],
      "metadata": {
        "id": "ixvDVaSzJH9s"
      },
      "execution_count": 28,
      "outputs": []
    },
    {
      "cell_type": "markdown",
      "source": [
        "### Image capture method"
      ],
      "metadata": {
        "id": "6DVH8VXhKhZy"
      }
    },
    {
      "cell_type": "code",
      "source": [
        "class StreetView:\n",
        "    def __init__(self, latitude: float, longitude: float, fov: int = 90, api_key: str = ''):\n",
        "        \"\"\" Initialize StreetView class.\n",
        "\n",
        "        Args:\n",
        "            latitude (float): Streetview latitude.\n",
        "            longitude (float): Streetview longitude.\n",
        "            fov (int): Field of view (horizontal) in degrees, max 120.\n",
        "            api_key (str): Google API key.\n",
        "        \"\"\"\n",
        "        self.latitude = latitude\n",
        "        self.longitude = longitude\n",
        "        assert 0 < fov <= 120, \"FOV must be between 1 and 120\"\n",
        "        self.fov = fov\n",
        "        self.api_key = api_key\n",
        "        self._meta_url = None\n",
        "        self._metadata = None\n",
        "\n",
        "    @property\n",
        "    def meta_url(self):\n",
        "        \"\"\"Construct meta URL for retrieving Street View metadata.\"\"\"\n",
        "        if not self._meta_url:\n",
        "            self._meta_url = f\"https://maps.googleapis.com/maps/api/streetview/metadata?location={self.latitude},{self.longitude}&key={self.api_key}\"\n",
        "        return self._meta_url\n",
        "\n",
        "    @property\n",
        "    def metadata(self):\n",
        "        \"\"\"Retrieve and cache metadata for the Street View panorama.\"\"\"\n",
        "        if not self._metadata:\n",
        "            resp = requests.get(self.meta_url)\n",
        "            self._metadata = json.loads(resp.content)\n",
        "        return self._metadata\n",
        "\n",
        "    @property\n",
        "    def pano_id(self):\n",
        "        \"\"\"Extract panorama ID from metadata.\"\"\"\n",
        "        return self.metadata.get('pano_id', '')\n",
        "\n",
        "    def download_images(self, output_path_pattern: str, id: str):\n",
        "        \"\"\"Downloads multiple images for different heading angles.\n",
        "\n",
        "        Args:\n",
        "            output_path_pattern (str): Path pattern to save the downloaded images, including a placeholder for the heading angle.\n",
        "        \"\"\"\n",
        "        headings = [0, 90, 180, 270]  # Define different heading angles\n",
        "        for heading in headings:\n",
        "            # Construct URL for each heading\n",
        "            url = f\"https://maps.googleapis.com/maps/api/streetview?size=448x448&location={self.latitude},{self.longitude}&pano={self.pano_id}&heading={heading}&fov={self.fov}&key={self.api_key}\"\n",
        "\n",
        "            # Perform the request and save the image\n",
        "            resp = requests.get(url)\n",
        "            if resp.status_code == 200:\n",
        "                img = Image.open(BytesIO(resp.content))\n",
        "                output_path = output_path_pattern.format(id, heading)\n",
        "                img.save(output_path)\n",
        "                print(f\"Image saved to {output_path}\")\n",
        "            else:\n",
        "                print(f\"Failed to download image for heading {heading}\")"
      ],
      "metadata": {
        "id": "peT2uMjzHnaM"
      },
      "execution_count": 23,
      "outputs": []
    },
    {
      "cell_type": "markdown",
      "source": [
        "### Image generation"
      ],
      "metadata": {
        "id": "aXF7OQ57Kp3u"
      }
    },
    {
      "cell_type": "code",
      "source": [
        "if __name__ == \"__main__\":\n",
        "    api_key = 'yourAPIkeyhere'\n",
        "    df = pd.read_csv(pathFinal, sep='|')\n",
        "\n",
        "    for id, row in df.iterrows():\n",
        "        sv = StreetView(row['latitude'], row['longitude'], fov=120, api_key=api_key)\n",
        "        sv.download_images(path+\"/streetview_{}_{}.png\", id)"
      ],
      "metadata": {
        "colab": {
          "base_uri": "https://localhost:8080/"
        },
        "id": "n-8-HXXPH2Uj",
        "outputId": "c950bb4b-daef-4939-c84c-9577feb3d0af"
      },
      "execution_count": 27,
      "outputs": [
        {
          "output_type": "stream",
          "name": "stdout",
          "text": [
            "Image saved to /content/drive/MyDrive/Diversa/Urbansafe/streetview_0_0.png\n",
            "Image saved to /content/drive/MyDrive/Diversa/Urbansafe/streetview_0_90.png\n",
            "Image saved to /content/drive/MyDrive/Diversa/Urbansafe/streetview_0_180.png\n",
            "Image saved to /content/drive/MyDrive/Diversa/Urbansafe/streetview_0_270.png\n",
            "Image saved to /content/drive/MyDrive/Diversa/Urbansafe/streetview_1_0.png\n",
            "Image saved to /content/drive/MyDrive/Diversa/Urbansafe/streetview_1_90.png\n",
            "Image saved to /content/drive/MyDrive/Diversa/Urbansafe/streetview_1_180.png\n",
            "Image saved to /content/drive/MyDrive/Diversa/Urbansafe/streetview_1_270.png\n",
            "Image saved to /content/drive/MyDrive/Diversa/Urbansafe/streetview_2_0.png\n",
            "Image saved to /content/drive/MyDrive/Diversa/Urbansafe/streetview_2_90.png\n",
            "Image saved to /content/drive/MyDrive/Diversa/Urbansafe/streetview_2_180.png\n",
            "Image saved to /content/drive/MyDrive/Diversa/Urbansafe/streetview_2_270.png\n",
            "Image saved to /content/drive/MyDrive/Diversa/Urbansafe/streetview_3_0.png\n",
            "Image saved to /content/drive/MyDrive/Diversa/Urbansafe/streetview_3_90.png\n",
            "Image saved to /content/drive/MyDrive/Diversa/Urbansafe/streetview_3_180.png\n",
            "Image saved to /content/drive/MyDrive/Diversa/Urbansafe/streetview_3_270.png\n",
            "Image saved to /content/drive/MyDrive/Diversa/Urbansafe/streetview_4_0.png\n",
            "Image saved to /content/drive/MyDrive/Diversa/Urbansafe/streetview_4_90.png\n",
            "Image saved to /content/drive/MyDrive/Diversa/Urbansafe/streetview_4_180.png\n",
            "Image saved to /content/drive/MyDrive/Diversa/Urbansafe/streetview_4_270.png\n"
          ]
        }
      ]
    },
    {
      "cell_type": "markdown",
      "source": [
        "### Exploratory data analysis"
      ],
      "metadata": {
        "id": "IGAxCgZ5efI2"
      }
    },
    {
      "cell_type": "code",
      "source": [
        "# 1. Overview\n",
        "print(\"First rows of the DataFrame:\")\n",
        "print(df_final.head())"
      ],
      "metadata": {
        "colab": {
          "base_uri": "https://localhost:8080/"
        },
        "id": "F29Lgzt7ejO9",
        "outputId": "14a93a24-924d-4d84-d9c3-d7e369f1645e"
      },
      "execution_count": 20,
      "outputs": [
        {
          "output_type": "stream",
          "name": "stdout",
          "text": [
            "First rows of the DataFrame:\n",
            "  index         id    country country_code     city   node_type   latitude  \\\n",
            "0     1  ARGS20031  Argentina          ARG  Rosario   principal -32.961405   \n",
            "1     1  ARGS20031  Argentina          ARG  Rosario  secundaria -32.961432   \n",
            "2     1  ARGS20031  Argentina          ARG  Rosario  secundaria -32.961410   \n",
            "3     1  ARGS20031  Argentina          ARG  Rosario  secundaria -32.961568   \n",
            "4     1  ARGS20031  Argentina          ARG  Rosario  secundaria -32.961294   \n",
            "\n",
            "   longitude  \n",
            "0 -60.684841  \n",
            "1 -60.684719  \n",
            "2 -60.684833  \n",
            "3 -60.684010  \n",
            "4 -60.685488  \n"
          ]
        }
      ]
    },
    {
      "cell_type": "code",
      "source": [
        "# 2. Count coordinates by country\n",
        "df_coordenadas_por_pais = df_final['country'].value_counts().reset_index()\n",
        "df_coordenadas_por_pais.columns = ['Country', 'Count']\n",
        "\n",
        "# show the DataFrame\n",
        "print(df_coordenadas_por_pais)\n",
        "\n",
        "# Display of coordinates by country\n",
        "plt.figure(figsize=(12, 8))\n",
        "sns.barplot(x='Count', y='Country', data=df_coordenadas_por_pais)\n",
        "plt.title('Number of Coordinates by Country')\n",
        "plt.xlabel('Number of Coordinates')\n",
        "plt.ylabel('Country')\n",
        "plt.show()"
      ],
      "metadata": {
        "colab": {
          "base_uri": "https://localhost:8080/",
          "height": 885
        },
        "id": "P79T85pwhH4Y",
        "outputId": "a4687a2b-616b-45e7-d10d-5e1de6b79617"
      },
      "execution_count": null,
      "outputs": [
        {
          "output_type": "stream",
          "name": "stdout",
          "text": [
            "     Country  Count\n",
            "0   Colombia   2217\n",
            "1    Ecuador   1857\n",
            "2    Vietnam   1316\n",
            "3  Tailandia   1205\n",
            "4  Argentina    866\n",
            "5       Peru    594\n",
            "6    Myanmar    527\n",
            "7     Brazil    340\n"
          ]
        },
        {
          "output_type": "display_data",
          "data": {
            "text/plain": [
              "<Figure size 1200x800 with 1 Axes>"
            ],
            "image/png": "[encoded data removed]"
          },
          "metadata": {}
        }
      ]
    },
    {
      "cell_type": "code",
      "source": [
        "# 3. Distribution of Nodes by City and Country\n",
        "\n",
        "# grouping of nodes by country and city\n",
        "grouped = df_final.groupby(['country', 'city', 'node_type']).size().reset_index(name='count')\n",
        "\n",
        "# Create the pivoted DataFrame for the stacked chart\n",
        "pivot_table = grouped.pivot_table(index=['country', 'city'], columns='node_type', values='count', fill_value=0).reset_index()\n",
        "\n",
        "# Create a new column combining country and city\n",
        "pivot_table['country_city'] = pivot_table['city'] + '       (' + pivot_table['country'] + ')'\n",
        "\n",
        "# Chart configuration\n",
        "fig, ax = plt.subplots(figsize=(12, 8))\n",
        "\n",
        "# Colors for the different types of nodes\n",
        "colors = sns.color_palette(\"muted\", n_colors=2)\n",
        "\n",
        "# Create horizontal stacked bars\n",
        "bottom = [0] * len(pivot_table)\n",
        "bar_width = 0.5  # Reduces the width of the bars\n",
        "\n",
        "for node_type, color in zip(['principal', 'secundaria'], colors):\n",
        "    values = pivot_table[node_type].values\n",
        "    ax.barh(pivot_table['city'], values, left=bottom, height=bar_width, color=color, label=node_type)\n",
        "    bottom = [i+j for i, j in zip(bottom, values)]\n",
        "\n",
        "# Add tags and caption\n",
        "ax.set_xlabel('Count')\n",
        "ax.set_ylabel('City')\n",
        "ax.set_title('Distribution of Nodes by City and Country')\n",
        "ax.legend(title='Node Type')\n",
        "ax.invert_yaxis()  # Invert the Y axis so that the stacked bars are aligned correctly.\n",
        "\n",
        "# Add country labels to the left margin\n",
        "unique_countries = pivot_table['country'].unique()\n",
        "current_country = ''\n",
        "y_pos = 0\n",
        "\n",
        "for country in unique_countries:\n",
        "    cities = pivot_table[pivot_table['country'] == country]['city']\n",
        "    mid_point = (cities.index[-1] + cities.index[0]) / 2\n",
        "    ax.text(-max(bottom) * 0.1, mid_point, country, ha='right', va='center', fontsize=15, fontweight='bold', rotation=0, color='black')\n",
        "\n",
        "# Adjust the margins so that the text does not get mounted\n",
        "plt.subplots_adjust(left=0.25, right=0.95, top=0.95, bottom=0.05)\n",
        "\n",
        "plt.tight_layout()\n",
        "plt.show()"
      ],
      "metadata": {
        "colab": {
          "base_uri": "https://localhost:8080/",
          "height": 800
        },
        "id": "wBXsWFMmABKq",
        "outputId": "b7a89707-e0bd-46c0-8090-6364b2cdf2ff"
      },
      "execution_count": 40,
      "outputs": [
        {
          "output_type": "display_data",
          "data": {
            "text/plain": [
              "<Figure size 1200x800 with 1 Axes>"
            ],
            "image/png": "[encoded data removed]"
          },
          "metadata": {}
        }
      ]
    }
  ]
}