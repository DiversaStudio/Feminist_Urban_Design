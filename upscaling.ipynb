{
  "nbformat": 4,
  "nbformat_minor": 0,
  "metadata": {
    "colab": {
      "provenance": []
    },
    "kernelspec": {
      "name": "python3",
      "display_name": "Python 3"
    },
    "language_info": {
      "name": "python"
    }
  },
  "cells": [
    {
      "cell_type": "code",
      "source": [
        "# Traigo las librerias del google para realizar la conexion con el drive\n",
        "from google.colab import files\n",
        "from google.colab import drive"
      ],
      "metadata": {
        "id": "OLf6B0p2cj8V"
      },
      "execution_count": 47,
      "outputs": []
    },
    {
      "cell_type": "code",
      "source": [
        "drive.mount(\"/content/drive\") # Se realiza la peticion para conexion a la cuenta de google drive"
      ],
      "metadata": {
        "colab": {
          "base_uri": "https://localhost:8080/"
        },
        "id": "CWX-K0Q5cn4F",
        "outputId": "cf499c19-2198-4ab9-bda0-483297f5bff2"
      },
      "execution_count": 48,
      "outputs": [
        {
          "output_type": "stream",
          "name": "stdout",
          "text": [
            "Drive already mounted at /content/drive; to attempt to forcibly remount, call drive.mount(\"/content/drive\", force_remount=True).\n"
          ]
        }
      ]
    },
    {
      "cell_type": "code",
      "source": [
        "path = r\"/content/drive/MyDrive/DatosPrueba/imagenes\".replace(\"\\\\\",\"/\")"
      ],
      "metadata": {
        "id": "KiBkeYB0ap_c"
      },
      "execution_count": 49,
      "outputs": []
    },
    {
      "cell_type": "code",
      "source": [
        "path # Es una ruta de prueba"
      ],
      "metadata": {
        "colab": {
          "base_uri": "https://localhost:8080/",
          "height": 36
        },
        "id": "1TLSmcYtbPP3",
        "outputId": "c47901ac-7e08-43a8-cfe5-c2bb5464a358"
      },
      "execution_count": 50,
      "outputs": [
        {
          "output_type": "execute_result",
          "data": {
            "text/plain": [
              "'/content/drive/MyDrive/DatosPrueba/imagenes'"
            ],
            "application/vnd.google.colaboratory.intrinsic+json": {
              "type": "string"
            }
          },
          "metadata": {},
          "execution_count": 50
        }
      ]
    },
    {
      "cell_type": "code",
      "source": [
        "import os\n",
        "import cv2\n",
        "\n",
        "def interpolacion_bilineal(ruta_directorio, pixeles):\n",
        "    \"\"\"\n",
        "    Se emplea el enfoque de interpolacion bilineal que esta dentro del algoritmo de upscaling\n",
        "    \"\"\"\n",
        "    # Iterar sobre todas las imágenes en el directorio\n",
        "    for nombre_archivo in os.listdir(ruta_directorio):\n",
        "        # Verificar si es un archivo de imagen (por ejemplo, JPEG, PNG)\n",
        "        if nombre_archivo.endswith(('.jpg', '.jpeg', '.png')):\n",
        "            # Construir la ruta completa de la imagen original y la imagen interpolada\n",
        "            ruta_imagen_original = os.path.join(ruta_directorio, nombre_archivo)\n",
        "            nombre_archivo_interpolado = f\"interpolada_{nombre_archivo}\"\n",
        "            ruta_imagen_interpolada = os.path.join(ruta_directorio, nombre_archivo_interpolado)\n",
        "\n",
        "            # Cargar la imagen\n",
        "            imagen = cv2.imread(ruta_imagen_original)\n",
        "            nuevo_ancho = pixeles\n",
        "            nuevo_alto = pixeles\n",
        "\n",
        "            # Aplicar la interpolación bilineal\n",
        "            imagen_interpolada = cv2.resize(imagen, (nuevo_ancho, nuevo_alto), interpolation=cv2.INTER_LINEAR)\n",
        "\n",
        "            cv2.imwrite(ruta_imagen_interpolada, imagen_interpolada)\n",
        "\n",
        "            print(f\"La imagen interpolada se ha guardado como '{ruta_imagen_interpolada}'.\")"
      ],
      "metadata": {
        "id": "mxU_IntcaiEX"
      },
      "execution_count": 51,
      "outputs": []
    },
    {
      "cell_type": "code",
      "source": [
        "pixeles = 1200\n",
        "# Ejecutar la interpolación bilineal para todas las imágenes en el directorio\n",
        "interpolacion_bilineal(path, pixeles)"
      ],
      "metadata": {
        "colab": {
          "base_uri": "https://localhost:8080/"
        },
        "id": "LGSk9vnlcBFm",
        "outputId": "a39a8c81-48cc-4b4a-fe58-dee7838a0d72"
      },
      "execution_count": 52,
      "outputs": [
        {
          "output_type": "stream",
          "name": "stdout",
          "text": [
            "La imagen interpolada se ha guardado como '/content/drive/MyDrive/DatosPrueba/imagenes/interpolada_streetview_8_180.png'.\n",
            "La imagen interpolada se ha guardado como '/content/drive/MyDrive/DatosPrueba/imagenes/interpolada_streetview_6_270.png'.\n",
            "La imagen interpolada se ha guardado como '/content/drive/MyDrive/DatosPrueba/imagenes/interpolada_streetview_8_270.png'.\n",
            "La imagen interpolada se ha guardado como '/content/drive/MyDrive/DatosPrueba/imagenes/interpolada_streetview_8_90.png'.\n",
            "La imagen interpolada se ha guardado como '/content/drive/MyDrive/DatosPrueba/imagenes/interpolada_streetview_8_0.png'.\n",
            "La imagen interpolada se ha guardado como '/content/drive/MyDrive/DatosPrueba/imagenes/interpolada_streetview_7_270.png'.\n",
            "La imagen interpolada se ha guardado como '/content/drive/MyDrive/DatosPrueba/imagenes/interpolada_streetview_7_180.png'.\n",
            "La imagen interpolada se ha guardado como '/content/drive/MyDrive/DatosPrueba/imagenes/interpolada_streetview_7_90.png'.\n",
            "La imagen interpolada se ha guardado como '/content/drive/MyDrive/DatosPrueba/imagenes/interpolada_streetview_7_0.png'.\n",
            "La imagen interpolada se ha guardado como '/content/drive/MyDrive/DatosPrueba/imagenes/interpolada_streetview_6_180.png'.\n",
            "La imagen interpolada se ha guardado como '/content/drive/MyDrive/DatosPrueba/imagenes/interpolada_streetview_5_270.png'.\n",
            "La imagen interpolada se ha guardado como '/content/drive/MyDrive/DatosPrueba/imagenes/interpolada_streetview_5_180.png'.\n",
            "La imagen interpolada se ha guardado como '/content/drive/MyDrive/DatosPrueba/imagenes/interpolada_streetview_5_90.png'.\n",
            "La imagen interpolada se ha guardado como '/content/drive/MyDrive/DatosPrueba/imagenes/interpolada_streetview_5_0.png'.\n",
            "La imagen interpolada se ha guardado como '/content/drive/MyDrive/DatosPrueba/imagenes/interpolada_streetview_4_270.png'.\n",
            "La imagen interpolada se ha guardado como '/content/drive/MyDrive/DatosPrueba/imagenes/interpolada_streetview_4_180.png'.\n",
            "La imagen interpolada se ha guardado como '/content/drive/MyDrive/DatosPrueba/imagenes/interpolada_streetview_4_90.png'.\n",
            "La imagen interpolada se ha guardado como '/content/drive/MyDrive/DatosPrueba/imagenes/interpolada_streetview_3_270.png'.\n",
            "La imagen interpolada se ha guardado como '/content/drive/MyDrive/DatosPrueba/imagenes/interpolada_streetview_4_0.png'.\n",
            "La imagen interpolada se ha guardado como '/content/drive/MyDrive/DatosPrueba/imagenes/interpolada_streetview_3_180.png'.\n",
            "La imagen interpolada se ha guardado como '/content/drive/MyDrive/DatosPrueba/imagenes/interpolada_streetview_3_90.png'.\n",
            "La imagen interpolada se ha guardado como '/content/drive/MyDrive/DatosPrueba/imagenes/interpolada_streetview_3_0.png'.\n",
            "La imagen interpolada se ha guardado como '/content/drive/MyDrive/DatosPrueba/imagenes/interpolada_streetview_2_270.png'.\n",
            "La imagen interpolada se ha guardado como '/content/drive/MyDrive/DatosPrueba/imagenes/interpolada_streetview_2_180.png'.\n",
            "La imagen interpolada se ha guardado como '/content/drive/MyDrive/DatosPrueba/imagenes/interpolada_streetview_2_90.png'.\n",
            "La imagen interpolada se ha guardado como '/content/drive/MyDrive/DatosPrueba/imagenes/interpolada_streetview_2_0.png'.\n",
            "La imagen interpolada se ha guardado como '/content/drive/MyDrive/DatosPrueba/imagenes/interpolada_streetview_1_270.png'.\n",
            "La imagen interpolada se ha guardado como '/content/drive/MyDrive/DatosPrueba/imagenes/interpolada_streetview_1_180.png'.\n",
            "La imagen interpolada se ha guardado como '/content/drive/MyDrive/DatosPrueba/imagenes/interpolada_streetview_1_90.png'.\n",
            "La imagen interpolada se ha guardado como '/content/drive/MyDrive/DatosPrueba/imagenes/interpolada_streetview_1_0.png'.\n",
            "La imagen interpolada se ha guardado como '/content/drive/MyDrive/DatosPrueba/imagenes/interpolada_streetview_0_270.png'.\n",
            "La imagen interpolada se ha guardado como '/content/drive/MyDrive/DatosPrueba/imagenes/interpolada_streetview_0_180.png'.\n",
            "La imagen interpolada se ha guardado como '/content/drive/MyDrive/DatosPrueba/imagenes/interpolada_streetview_0_90.png'.\n",
            "La imagen interpolada se ha guardado como '/content/drive/MyDrive/DatosPrueba/imagenes/interpolada_streetview_0_0.png'.\n",
            "La imagen interpolada se ha guardado como '/content/drive/MyDrive/DatosPrueba/imagenes/interpolada_streetview_10_180.png'.\n",
            "La imagen interpolada se ha guardado como '/content/drive/MyDrive/DatosPrueba/imagenes/interpolada_streetview_10_90.png'.\n",
            "La imagen interpolada se ha guardado como '/content/drive/MyDrive/DatosPrueba/imagenes/interpolada_streetview_10_0.png'.\n",
            "La imagen interpolada se ha guardado como '/content/drive/MyDrive/DatosPrueba/imagenes/interpolada_streetview_9_180.png'.\n",
            "La imagen interpolada se ha guardado como '/content/drive/MyDrive/DatosPrueba/imagenes/interpolada_streetview_9_270.png'.\n",
            "La imagen interpolada se ha guardado como '/content/drive/MyDrive/DatosPrueba/imagenes/interpolada_streetview_9_90.png'.\n",
            "La imagen interpolada se ha guardado como '/content/drive/MyDrive/DatosPrueba/imagenes/interpolada_streetview_9_0.png'.\n",
            "La imagen interpolada se ha guardado como '/content/drive/MyDrive/DatosPrueba/imagenes/interpolada_streetview_6_90.png'.\n",
            "La imagen interpolada se ha guardado como '/content/drive/MyDrive/DatosPrueba/imagenes/interpolada_streetview_6_0.png'.\n"
          ]
        }
      ]
    }
  ]
}