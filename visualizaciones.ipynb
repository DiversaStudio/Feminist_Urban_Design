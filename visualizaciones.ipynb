{
 "cells": [
  {
   "cell_type": "code",
   "execution_count": 12,
   "metadata": {},
   "outputs": [],
   "source": [
    "import geopandas as gpd\n",
    "import pandas as pd\n",
    "import matplotlib.pyplot as plt\n",
    "import contextily as ctx\n",
    "from shapely.geometry import Point"
   ]
  },
  {
   "cell_type": "code",
   "execution_count": 13,
   "metadata": {},
   "outputs": [
    {
     "name": "stdout",
     "output_type": "stream",
     "text": [
      "  index|id|country|country_code|city|node_type|latitude|longitude\n",
      "0  1|ARGS20031|Argentina|ARG|Rosario|principal|-3...             \n",
      "1  1|ARGS20031|Argentina|ARG|Rosario|secundaria|-...             \n",
      "2  1|ARGS20031|Argentina|ARG|Rosario|secundaria|-...             \n",
      "3  1|ARGS20031|Argentina|ARG|Rosario|secundaria|-...             \n",
      "4  1|ARGS20031|Argentina|ARG|Rosario|secundaria|-...             \n"
     ]
    }
   ],
   "source": [
    "# Define la ruta a tu archivo CSV\n",
    "path = r'C:\\Users\\diana\\Documents\\Diversa\\UDLA\\Feminist_Urban_Design\\nodos_expandidos.csv'\n",
    "\n",
    "# Cargar el archivo CSV en un DataFrame de pandas\n",
    "bus_stops_df = pd.read_csv(path)\n",
    "\n",
    "# Mostrar las primeras filas para analizar las variables\n",
    "print(bus_stops_df.head())\n"
   ]
  },
  {
   "cell_type": "code",
   "execution_count": null,
   "metadata": {},
   "outputs": [],
   "source": [
    "# Crear la geometría usando latitud y longitud\n",
    "geometry = [Point(xy) for xy in zip(bus_stops_df['longitude'], bus_stops_df['latitude'])]\n",
    "geo_df = gpd.GeoDataFrame(bus_stops_df, geometry=geometry)\n",
    "\n",
    "# Filtrar los nodos principales y secundarios\n",
    "filtered_geo_df = geo_df[geo_df['node_type'].isin(['principal', 'secundaria'])]"
   ]
  }
 ],
 "metadata": {
  "kernelspec": {
   "display_name": "FeministUrban",
   "language": "python",
   "name": "python3"
  },
  "language_info": {
   "codemirror_mode": {
    "name": "ipython",
    "version": 3
   },
   "file_extension": ".py",
   "mimetype": "text/x-python",
   "name": "python",
   "nbconvert_exporter": "python",
   "pygments_lexer": "ipython3",
   "version": "3.10.15"
  }
 },
 "nbformat": 4,
 "nbformat_minor": 2
}
